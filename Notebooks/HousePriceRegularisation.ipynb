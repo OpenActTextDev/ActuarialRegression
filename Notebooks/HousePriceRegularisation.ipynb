{
  "nbformat": 4,
  "nbformat_minor": 0,
  "metadata": {
    "colab": {
      "provenance": []
    },
    "kernelspec": {
      "name": "ir",
      "display_name": "R"
    },
    "language_info": {
      "name": "R"
    }
  },
  "cells": [
    {
      "cell_type": "markdown",
      "source": [
        "# Seattle House Prices (King County)\n",
        "\n",
        "## Abstract\n",
        "\n",
        "This tutorial shows how to fit a linear regression and regularised linear regression to the Seattle House Prices (King County)\n",
        "\n",
        "<table align=\"left\">\n",
        "  <td>\n",
        "    <a href=\"https://colab.research.google.com/github/OpenActTextDev/ActuarialRegression/blob/main/Notebooks/HousePriceRegularisation.ipynb\" target=\"_parent\"><img src=\"https://colab.research.google.com/assets/colab-badge.svg\" alt=\"Open In Colab\"/></a>\n",
        "  </td>\n",
        "</table>\n"
      ],
      "metadata": {
        "id": "3QAout64bP-d"
      }
    },
    {
      "cell_type": "code",
      "source": [],
      "metadata": {
        "id": "0OC7af_mbo-E"
      },
      "execution_count": null,
      "outputs": []
    }
  ]
}